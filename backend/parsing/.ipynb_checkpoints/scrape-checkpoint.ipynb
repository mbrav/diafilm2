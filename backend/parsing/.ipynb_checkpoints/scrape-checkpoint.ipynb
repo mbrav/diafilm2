{
 "cells": [
  {
   "cell_type": "markdown",
   "metadata": {},
   "source": [
    "# Diafilm parsing\n",
    "\n"
   ]
  },
  {
   "cell_type": "markdown",
   "metadata": {},
   "source": [
    "## Fetch diafilms\n",
    "\n",
    "And save to html pages for later parsing"
   ]
  },
  {
   "cell_type": "code",
   "execution_count": null,
   "metadata": {},
   "outputs": [],
   "source": [
    "import csv\n",
    "import requests\n",
    "import time"
   ]
  },
  {
   "cell_type": "code",
   "execution_count": null,
   "metadata": {
    "tags": []
   },
   "outputs": [],
   "source": [
    "csv_file = None\n",
    "\n",
    "with open('data/diafilms-v1.csv', mode ='r') as file:   \n",
    "    csv_file = csv.DictReader(file)\n",
    "\n",
    "    for row in csv_file:\n",
    "        time.sleep(0.5)\n",
    "        print(f\"Downloading {row['name']} page from {row['url']}\")\n",
    "        r = requests.get(row[\"url\"])\n",
    "        with open(f'html/index-{row[\"id\"]}.html', 'w') as f:\n",
    "            f.write(r.text)\n",
    "        "
   ]
  },
  {
   "cell_type": "markdown",
   "metadata": {},
   "source": [
    "# Parse webpages "
   ]
  },
  {
   "cell_type": "code",
   "execution_count": null,
   "metadata": {},
   "outputs": [],
   "source": [
    "import glob\n",
    "import re\n",
    "from bs4 import BeautifulSoup\n"
   ]
  },
  {
   "cell_type": "code",
   "execution_count": null,
   "metadata": {
    "tags": []
   },
   "outputs": [],
   "source": [
    "\n",
    "# Read all pages in html folder\n",
    "pages = glob.glob(\"html/*.html\")\n",
    "\n",
    "site_url = 'https://diafilmy.su'\n",
    "new_data = []\n",
    "\n",
    "for p in range(len(pages)):\n",
    "    with open(pages[p], 'r') as page:\n",
    "\n",
    "        dict = {\n",
    "            \"id\": re.findall('\\d+',page.name)[0],\n",
    "            \"img\": [],\n",
    "            \"img-cover\": \"\",\n",
    "            \"description\": \"\",\n",
    "            \"categories\": []\n",
    "        }\n",
    "\n",
    "        soup = BeautifulSoup(page.read(), 'html.parser')\n",
    "        title = soup.find(id='news-title').get_text()\n",
    "        img_cover = soup.find(property='og:image').get('content')\n",
    "        desc = soup.find(property='og:description').get('content')\n",
    "        slide = soup.find(class_='cycle-slideshow')\n",
    "        txt_with_category = soup.find(class_='berrorstxt')\n",
    "\n",
    "        # Set cover image \n",
    "        dict[\"img-cover\"] = img_cover\n",
    "\n",
    "        # Set description\n",
    "        dict[\"description\"] = desc\n",
    "\n",
    "        # Set categories\n",
    "        for a in txt_with_category.find_all(href=re.compile('diafilmy.su/diafilmy/')):\n",
    "            dict[\"categories\"].append(a.get_text().strip())\n",
    "        \n",
    "        # Get gallery images \n",
    "        for img in slide.find_all('img'):\n",
    "            dict[\"img\"].append(site_url + img.get('src'))\n",
    "\n",
    "        new_data.append(dict)\n",
    "\n",
    "print(new_data[5])\n"
   ]
  },
  {
   "cell_type": "markdown",
   "metadata": {},
   "source": [
    "## Save data to json "
   ]
  },
  {
   "cell_type": "code",
   "execution_count": null,
   "metadata": {},
   "outputs": [],
   "source": [
    "import json \n"
   ]
  },
  {
   "cell_type": "code",
   "execution_count": null,
   "metadata": {},
   "outputs": [],
   "source": [
    "with open('data/post-metadata.json', 'w+') as f:\n",
    "    json.dump(new_data, f)"
   ]
  },
  {
   "cell_type": "markdown",
   "metadata": {},
   "source": [
    "## GlueData™\n"
   ]
  },
  {
   "cell_type": "code",
   "execution_count": 12,
   "metadata": {},
   "outputs": [
    {
     "name": "stdout",
     "output_type": "stream",
     "text": [
      "ID \t Fieldname\n",
      "0 \t id\n",
      "1 \t name\n",
      "2 \t url\n",
      "3 \t studio\n",
      "4 \t year\n",
      "5 \t color\n",
      "6 \t type\n",
      "7 \t frames\n",
      "8 \t index\n",
      "9 \t number\n",
      "10 \t author\n",
      "11 \t artist\n",
      "12 \t designer\n",
      "13 \t editor\n",
      "14 \t artistic-editor\n",
      "15 \t photographer\n",
      "16 \t film\n",
      "17 \t quality\n"
     ]
    }
   ],
   "source": [
    "# read and parse JSON file\n",
    "new_json = open('data/post-metadata.json', mode='r')\n",
    "data = new_json.read()\n",
    "obj = json.loads(data)\n",
    "\n",
    "# read and parse CSV file and use list instead of dictionary\n",
    "csv_file = open('data/diafilms-v1.csv', mode='r')\n",
    "csvr = csv.reader(csv_file)\n",
    "csvr = list(csvr)\n",
    "\n",
    "# ID Lookup working test         \n",
    "index = 5235\n",
    "json_obj = obj[index]\n",
    "csv_lookup = csvr[int(json_obj[\"id\"])]\n",
    "# print(json_obj,csv_lookup)\n",
    "\n",
    "for i, name in enumerate(csvr):\n",
    "    # Index 0 in csv is fieldnames anyways \n",
    "    # so len(csvr) - 1 = len(obj)\n",
    "    if i == 0:\n",
    "        print(\"ID \\t Fieldname\")\n",
    "        for j in range(len(name)):\n",
    "            print(f\"{j} \\t {name[j]}\")\n",
    "    else:\n",
    "        try: \n",
    "            i_lookup = int(obj[i-1][\"id\"])\n",
    "            obj[i-1][\"name\"] = csvr[i_lookup][1]\n",
    "            obj[i-1][\"url\"] = csvr[i_lookup][2]\n",
    "            obj[i-1][\"studio\"] = csvr[i_lookup][3]\n",
    "            obj[i-1][\"year\"] = csvr[i_lookup][4]\n",
    "            obj[i-1][\"color\"] = csvr[i_lookup][5]\n",
    "            obj[i-1][\"type\"] = csvr[i_lookup][6]\n",
    "            obj[i-1][\"frames\"] = csvr[i_lookup][7]\n",
    "            obj[i-1][\"index\"] = csvr[i_lookup][8]\n",
    "            obj[i-1][\"number\"] = csvr[i_lookup][9]\n",
    "            obj[i-1][\"author\"] = [\n",
    "                x.strip() for x in csvr[i_lookup][10].split(',')]\n",
    "            obj[i-1][\"artist\"] = [\n",
    "                x.strip() for x in csvr[i_lookup][11].split(',')]\n",
    "            obj[i-1][\"designer\"] = [\n",
    "                x.strip() for x in csvr[i_lookup][12].split(',')]\n",
    "            obj[i-1][\"editor\"] = [\n",
    "                x.strip() for x in csvr[i_lookup][13].split(',')]\n",
    "            obj[i-1][\"artistic-editor\"] = [\n",
    "                x.strip() for x in csvr[i_lookup][14].split(',')]\n",
    "            obj[i-1][\"photographer\"] = [\n",
    "                x.strip() for x in csvr[i_lookup][15].split(',')]\n",
    "            obj[i-1][\"film\"] = csvr[i_lookup][16]\n",
    "            obj[i-1][\"quality\"] = csvr[i_lookup][17]\n",
    "        except:\n",
    "            print(\"BAD INDEX\", i)\n"
   ]
  },
  {
   "cell_type": "code",
   "execution_count": null,
   "metadata": {},
   "outputs": [],
   "source": [
    "img_count = 0\n",
    "for i in range(len(obj)):\n",
    "    for j in range(len(obj[i][\"img\"])):\n",
    "        img_count +=1\n",
    "\n",
    "print(\"Number of images\", img_count)"
   ]
  },
  {
   "cell_type": "markdown",
   "metadata": {},
   "source": [
    "## Save to new file "
   ]
  },
  {
   "cell_type": "code",
   "execution_count": null,
   "metadata": {},
   "outputs": [],
   "source": [
    "with open('data/post-metadata-all.json', 'w+') as f:\n",
    "    json.dump(obj, f)\n",
    "with open('data/post-metadata-all-mini.json', 'w+') as f:\n",
    "    obj_mini = obj[0:100]\n",
    "    json.dump(obj_mini, f)"
   ]
  },
  {
   "cell_type": "markdown",
   "metadata": {},
   "source": [
    "# Database Import"
   ]
  },
  {
   "cell_type": "code",
   "execution_count": 1,
   "metadata": {},
   "outputs": [
    {
     "name": "stdout",
     "output_type": "stream",
     "text": [
      "Основы композиции в художественном конструировании\n"
     ]
    }
   ],
   "source": [
    "import django_for_jupyter\n",
    "import json\n",
    "import csv\n",
    "import re\n",
    "from django.contrib.auth import get_user_model\n",
    "from diafilms.models import Film, Image, Frame, FilmCover\n",
    "from posts.models import TagCategory, Tag, GroupCategory\n",
    "# !pip install transliterate\n",
    "from transliterate import translit\n",
    "\n",
    "# Get User\n",
    "User = get_user_model()\n",
    "user = User.objects.get(username='diafilm')\n",
    "\n",
    "# read and parse full JSON file\n",
    "new_json = open('data/post-metadata-all.json', mode='r')\n",
    "data = new_json.read()\n",
    "obj = json.loads(data)\n",
    "print(obj[112]['name'])\n",
    "\n",
    "# Film.objects.all().delete()\n",
    "# Image.objects.all().delete()\n",
    "# Frame.objects.all().delete()\n",
    "# FilmCover.objects.all().delete()\n",
    "\n",
    "def translitSlug(string):\n",
    "    string = translit(string, 'ru', reversed=True).lower()\n",
    "    string ='-'.join(string.split())   \n",
    "    return string\n"
   ]
  },
  {
   "cell_type": "markdown",
   "metadata": {},
   "source": [
    "## Import into Models"
   ]
  },
  {
   "cell_type": "code",
   "execution_count": 4,
   "metadata": {},
   "outputs": [
    {
     "name": "stdout",
     "output_type": "stream",
     "text": [
      "<QuerySet [<GroupCategory: Диафильмы^2>]>\n"
     ]
    }
   ],
   "source": [
    "for i in obj:\n",
    "    if len(i['categories']) == 0:\n",
    "        print(i['id'], i['name'], i['categories'])\n",
    "\n",
    "# defualt_gr = GroupCategory(\n",
    "#     name='Диафильмы^2',\n",
    "#     slug='diafilms2',\n",
    "#     description='Диафильмы^2',\n",
    "# )\n",
    "\n",
    "# defualt_gr.save()\n",
    "# test_gr = GroupCategory.objects.filter(name='Диафильмы^2')\n",
    "# print(test_gr)\n"
   ]
  },
  {
   "cell_type": "code",
   "execution_count": 2,
   "metadata": {
    "scrolled": false,
    "tags": [
     "outputPrepend"
    ]
   },
   "outputs": [
    {
     "name": "stdout",
     "output_type": "stream",
     "text": [
      "Adding #4032 - Скульптор Федот Шубин\n"
     ]
    },
    {
     "ename": "ValueError",
     "evalue": "\"<Film: Скульптор Федот>\" needs to have a value for field \"id\" before this many-to-many relationship can be used.",
     "output_type": "error",
     "traceback": [
      "\u001b[0;31m---------------------------------------------------------------------------\u001b[0m",
      "\u001b[0;31mValueError\u001b[0m                                Traceback (most recent call last)",
      "\u001b[0;32m/tmp/ipykernel_330601/3862850799.py\u001b[0m in \u001b[0;36m<module>\u001b[0;34m\u001b[0m\n\u001b[1;32m     37\u001b[0m             \u001b[0;32melse\u001b[0m\u001b[0;34m:\u001b[0m\u001b[0;34m\u001b[0m\u001b[0;34m\u001b[0m\u001b[0m\n\u001b[1;32m     38\u001b[0m                 \u001b[0mgr\u001b[0m \u001b[0;34m=\u001b[0m \u001b[0mGroupCategory\u001b[0m\u001b[0;34m.\u001b[0m\u001b[0mobjects\u001b[0m\u001b[0;34m.\u001b[0m\u001b[0mget\u001b[0m\u001b[0;34m(\u001b[0m\u001b[0mname\u001b[0m\u001b[0;34m=\u001b[0m\u001b[0mgroup\u001b[0m\u001b[0;34m)\u001b[0m\u001b[0;34m\u001b[0m\u001b[0;34m\u001b[0m\u001b[0m\n\u001b[0;32m---> 39\u001b[0;31m             \u001b[0mf\u001b[0m\u001b[0;34m.\u001b[0m\u001b[0mgroups\u001b[0m\u001b[0;34m.\u001b[0m\u001b[0madd\u001b[0m\u001b[0;34m(\u001b[0m\u001b[0mgr\u001b[0m\u001b[0;34m)\u001b[0m\u001b[0;34m\u001b[0m\u001b[0;34m\u001b[0m\u001b[0m\n\u001b[0m\u001b[1;32m     40\u001b[0m         \u001b[0mf\u001b[0m\u001b[0;34m.\u001b[0m\u001b[0msave\u001b[0m\u001b[0;34m(\u001b[0m\u001b[0;34m)\u001b[0m\u001b[0;34m\u001b[0m\u001b[0;34m\u001b[0m\u001b[0m\n\u001b[1;32m     41\u001b[0m \u001b[0;34m\u001b[0m\u001b[0m\n",
      "\u001b[0;32m~/dev/praktikum/diafilm2/venv/lib/python3.9/site-packages/django/db/models/fields/related_descriptors.py\u001b[0m in \u001b[0;36m__get__\u001b[0;34m(self, instance, cls)\u001b[0m\n\u001b[1;32m    534\u001b[0m             \u001b[0;32mreturn\u001b[0m \u001b[0mself\u001b[0m\u001b[0;34m\u001b[0m\u001b[0;34m\u001b[0m\u001b[0m\n\u001b[1;32m    535\u001b[0m \u001b[0;34m\u001b[0m\u001b[0m\n\u001b[0;32m--> 536\u001b[0;31m         \u001b[0;32mreturn\u001b[0m \u001b[0mself\u001b[0m\u001b[0;34m.\u001b[0m\u001b[0mrelated_manager_cls\u001b[0m\u001b[0;34m(\u001b[0m\u001b[0minstance\u001b[0m\u001b[0;34m)\u001b[0m\u001b[0;34m\u001b[0m\u001b[0;34m\u001b[0m\u001b[0m\n\u001b[0m\u001b[1;32m    537\u001b[0m \u001b[0;34m\u001b[0m\u001b[0m\n\u001b[1;32m    538\u001b[0m     \u001b[0;32mdef\u001b[0m \u001b[0m_get_set_deprecation_msg_params\u001b[0m\u001b[0;34m(\u001b[0m\u001b[0mself\u001b[0m\u001b[0;34m)\u001b[0m\u001b[0;34m:\u001b[0m\u001b[0;34m\u001b[0m\u001b[0;34m\u001b[0m\u001b[0m\n",
      "\u001b[0;32m~/dev/praktikum/diafilm2/venv/lib/python3.9/site-packages/django/db/models/fields/related_descriptors.py\u001b[0m in \u001b[0;36m__init__\u001b[0;34m(self, instance)\u001b[0m\n\u001b[1;32m    849\u001b[0m             \u001b[0mself\u001b[0m\u001b[0;34m.\u001b[0m\u001b[0mrelated_val\u001b[0m \u001b[0;34m=\u001b[0m \u001b[0mself\u001b[0m\u001b[0;34m.\u001b[0m\u001b[0msource_field\u001b[0m\u001b[0;34m.\u001b[0m\u001b[0mget_foreign_related_value\u001b[0m\u001b[0;34m(\u001b[0m\u001b[0minstance\u001b[0m\u001b[0;34m)\u001b[0m\u001b[0;34m\u001b[0m\u001b[0;34m\u001b[0m\u001b[0m\n\u001b[1;32m    850\u001b[0m             \u001b[0;32mif\u001b[0m \u001b[0;32mNone\u001b[0m \u001b[0;32min\u001b[0m \u001b[0mself\u001b[0m\u001b[0;34m.\u001b[0m\u001b[0mrelated_val\u001b[0m\u001b[0;34m:\u001b[0m\u001b[0;34m\u001b[0m\u001b[0;34m\u001b[0m\u001b[0m\n\u001b[0;32m--> 851\u001b[0;31m                 raise ValueError('\"%r\" needs to have a value for field \"%s\" before '\n\u001b[0m\u001b[1;32m    852\u001b[0m                                  \u001b[0;34m'this many-to-many relationship can be used.'\u001b[0m \u001b[0;34m%\u001b[0m\u001b[0;34m\u001b[0m\u001b[0;34m\u001b[0m\u001b[0m\n\u001b[1;32m    853\u001b[0m                                  (instance, self.pk_field_names[self.source_field_name]))\n",
      "\u001b[0;31mValueError\u001b[0m: \"<Film: Скульптор Федот>\" needs to have a value for field \"id\" before this many-to-many relationship can be used."
     ]
    }
   ],
   "source": [
    "defualt_gr = GroupCategory.objects.create(\n",
    "    name='Диафильмы^2',\n",
    "    slug='diafilms2',\n",
    "    description='Диафильмы^2',\n",
    ")\n",
    "\n",
    "for i in obj:\n",
    "    if not Film.objects.filter(id=i['id']).exists():\n",
    "        print(f'Adding #{i[\"id\"]} - {i[\"name\"]}')\n",
    "        text_not_empty = i['description']\n",
    "        if len(text_not_empty) == 0:\n",
    "            text_not_empty = i['name']\n",
    "        f = Film.objects.create(\n",
    "            author=user,\n",
    "            id= int('0'+i['id']),\n",
    "            name = i['name'],\n",
    "            url = i['url'],\n",
    "            studio = i['studio'],\n",
    "            year = int('0'+i['year']),\n",
    "            color = i['color'],\n",
    "            film_type = i['type'],\n",
    "            index = i['index'],\n",
    "            number = i['number'],\n",
    "            film_name = i['film'],\n",
    "            quality = i['quality'],\n",
    "            text = text_not_empty,\n",
    "        )\n",
    "        \n",
    "        for group in i['categories']:\n",
    "            gr = None\n",
    "            if not GroupCategory.objects.filter(name=group).exists():\n",
    "                print(f'INFO: Creating new PostCategory {group}')\n",
    "                gr = GroupCategory.objects.create(\n",
    "                    name=group,\n",
    "                    slug=translitSlug(group))\n",
    "                gr.save()\n",
    "            else:\n",
    "                gr = GroupCategory.objects.get(name=group)  \n",
    "            f.groups.add(gr)\n",
    "\n",
    "#         if len(i['categories']) > 0:\n",
    "#             pass\n",
    "#         else:\n",
    "#             f.groups.add(defualt_gr)\n",
    "        \n",
    "\n",
    "        # Create dict for Foreign keys\n",
    "        tag_categories = {\n",
    "            'author': i['author'],\n",
    "            'artist': i['artist'],\n",
    "            'designer': i['designer'],\n",
    "            'editor': i['editor'],\n",
    "            'artistic_editor': i['artistic-editor'],\n",
    "            'photographer': i['photographer'],\n",
    "#             'categories': i['categories'],\n",
    "        }\n",
    "\n",
    "        for c, cat in tag_categories.items():\n",
    "            select_cat = None\n",
    "            if not TagCategory.objects.filter(name=c).exists():\n",
    "                # print(f'INFO: Creating new TagCategory {c}')\n",
    "                select_cat = TagCategory.objects.create(\n",
    "                    name = c,\n",
    "                    slug = translitSlug(c)\n",
    "                )\n",
    "            else:\n",
    "                select_cat = TagCategory.objects.get(name=c)\n",
    "            select_cat.save()\n",
    "            for tag in cat:\n",
    "                if tag != \"\":\n",
    "                    select_tag = None\n",
    "                    if not Tag.objects.filter(name=tag, category=select_cat).exists():\n",
    "                        # print(f'INFO: Creating new tag {tag} for category {c}')\n",
    "                        select_tag = Tag.objects.create(\n",
    "                            name = tag,\n",
    "                            slug = translitSlug(tag),\n",
    "                            category = select_cat,\n",
    "                        )\n",
    "                    else:\n",
    "                        select_tag = Tag.objects.get(name=tag, category=select_cat)\n",
    "                    f.tags.add(select_tag)\n",
    "            f.category = select_cat\n",
    "\n",
    "        # Create frames\n",
    "        for key in range(len(i['img'])):\n",
    "            fr = Frame.objects.create(\n",
    "                url = i['img'][key],\n",
    "                external = True,\n",
    "                film = f,\n",
    "                sequence = key,\n",
    "            )\n",
    "        \n",
    "        # Ccheck if image exists for cover image\n",
    "        img = None\n",
    "        try:\n",
    "            img = Image.objects.filter(url=i['img-cover'])[0]\n",
    "        except:\n",
    "            img = Image(url = i['img-cover'])\n",
    "            img.save()\n",
    "            print('image not found:', i['img-cover'])\n",
    "        \n",
    "        # Create cover image\n",
    "        film_cover = FilmCover.objects.create(\n",
    "            film=f,\n",
    "            image=img\n",
    "        )\n"
   ]
  },
  {
   "cell_type": "markdown",
   "metadata": {},
   "source": [
    "## Check"
   ]
  },
  {
   "cell_type": "code",
   "execution_count": 11,
   "metadata": {},
   "outputs": [
    {
     "name": "stdout",
     "output_type": "stream",
     "text": [
      "\n",
      " 5472 Почему рыбы стали нарядными\n",
      "author Мишутин Н.\n",
      "artist Афанасьева Н.\n",
      "editor Семибратова Т.\n",
      "artistic_editor Морозов А.\n",
      "categories Сказки\n",
      "\n",
      " 5292 Три мушкетера. Часть 4\n",
      "author Дюма А.\n",
      "artist Белей И.\n",
      "editor Попова Л.\n",
      "categories Повести и рассказы\n",
      "\n",
      " 5071 Почему на севере ночь длинная?\n",
      "author Наумов Е.\n",
      "artist Кульков В.\n",
      "\n",
      " 4975 Защита подземных кабелей от электрокоррозии\n",
      "categories Образовательные и учебные\n",
      "author Васильев В.\n",
      "author Мамичев В.\n",
      "designer Гиричева Ж.\n",
      "editor Махмудбек Ю.\n",
      "photographer Панова А.\n",
      "\n",
      " 4351 Берберийский лев\n",
      "artistic_editor Морозов А.\n",
      "categories Повести и рассказы\n",
      "author Мошковский А.\n",
      "artist Лемкуль Ф.\n",
      "editor Гуревич Л.\n",
      "\n",
      " 4226 Русская народная игрушка\n",
      "author Алёхин А.\n",
      "designer Степанов Н.\n",
      "editor Книжникова Л.\n",
      "photographer Перевезенцева Т.\n",
      "categories Образовательные и учебные\n",
      "\n",
      " 4208 Новогодняя ёлка\n",
      "editor Книжникова Л.\n",
      "categories Образовательные и учебные\n",
      "artistic_editor Морозов А.\n",
      "author Суворова Г.\n",
      "artist Самойлов В.\n",
      "\n",
      " 4032 Скульптор Федот Шубин\n",
      "author Нейман М.\n",
      "designer Лисогорская Ю.\n",
      "editor Минц М.\n",
      "categories Исторические и документальные\n",
      "\n",
      " 4002 Вот вам подарок мой\n",
      "artistic_editor Дугин В.\n",
      "categories Стихи и басни\n",
      "author Данько В.\n",
      "artist Чайко Е.\n",
      "artist Гран М.\n",
      "editor Мартынова Н.\n",
      "\n",
      " 3708 Малиновая кошка\n",
      "editor Витухновская Г.\n",
      "author Мориц Ю.\n",
      "artist Рублев И.\n",
      "artistic_editor Дугин В.\n",
      "categories Стихи и басни\n",
      "\n",
      " 3206 Академик М. А. Лаврентьев\n",
      "categories Исторические и документальные\n",
      "designer Гиричева Ж.\n",
      "author Кокин Л.\n",
      "editor Симонова Р.\n",
      "\n",
      " 2159 Ночь перед Рождеством. Часть 1\n",
      "categories Повести и рассказы\n",
      "\n",
      " 1742 Специализация и концентрация производства на базе межхозяственной кооперации и аграрно-промышленной интеграции\n",
      "categories Исторические и документальные\n",
      "\n",
      " 1594 Фотоэкран №8 1978г.\n",
      "categories Исторические и документальные\n",
      "author Чуканов В.\n",
      "author Облезов Е.\n",
      "designer Носкова Т.\n",
      "editor Жуковина О.\n",
      "\n",
      " 1363 На древней русской дороге \n",
      "categories Исторические и документальные\n",
      "editor Витухновская Г.\n",
      "author Носик Б.\n",
      "photographer Мерцедин О.\n",
      "\n",
      " 1017 Солнышкин в Антарктиде. Часть 1\n",
      "categories Повести и рассказы\n",
      "author Коржиков В.\n",
      "artist Ряховский Ю.\n",
      "editor Севостьянова Л.\n",
      "artistic_editor Иванов В.\n",
      "\n",
      " 946 Окислительно-восстановительные реакции\n",
      "categories Образовательные и учебные\n",
      "\n",
      " 764 Вещества - невидимки\n",
      "categories Образовательные и учебные\n",
      "author Грабецкий А.\n",
      "designer Дунаева Н.\n",
      "editor Витухновская Г.\n",
      "\n",
      " 695 Волшебный камень\n",
      "categories Сказки\n",
      "categories Другие языки\n",
      "\n",
      " 607 Сектантство и его сущность\n",
      "categories Исторические и документальные\n",
      "author Сердобольская Л.\n",
      "author Кочетов А.\n",
      "designer Колчина М.\n",
      "editor Вильвовская Л.\n",
      "\n",
      " 529 Закон жизни коммунистов\n",
      "categories Исторические и документальные\n",
      "author Логинов В.\n",
      "designer Ищенко И.\n",
      "editor Морозова Г.\n",
      "\n",
      " 409 Булька\n",
      "editor Семибратова Т.\n",
      "categories Повести и рассказы\n",
      "artistic_editor Дугин В.\n",
      "author Толстой Л.\n",
      "artist Игнатьев Б.\n",
      "\n",
      " 25 Металлургический комплекс УССР\n",
      "categories Исторические и документальные\n",
      "author Кучера Г.\n",
      "artist Турчинский В.\n",
      "designer Петруня Т.\n",
      "editor Гудзенко Г.\n",
      "categories Другие языки\n"
     ]
    }
   ],
   "source": [
    "## Tags and Tag fix into Models\n",
    "film_test = Film.objects.all()\n",
    "\n",
    "for f in film_test:\n",
    "    print('\\n', f.id, f.name)\n",
    "    for t in f.tags.all():\n",
    "        print(t.category, t.name)\n"
   ]
  }
 ],
 "metadata": {
  "kernelspec": {
   "display_name": "Django Shell-Plus",
   "language": "python",
   "name": "django_extensions"
  },
  "language_info": {
   "codemirror_mode": {
    "name": "ipython",
    "version": 3
   },
   "file_extension": ".py",
   "mimetype": "text/x-python",
   "name": "python",
   "nbconvert_exporter": "python",
   "pygments_lexer": "ipython3",
   "version": "3.9.6"
  }
 },
 "nbformat": 4,
 "nbformat_minor": 2
}
